{
 "cells": [
  {
   "cell_type": "markdown",
   "metadata": {
    "collapsed": true,
    "deletable": true,
    "editable": true
   },
   "source": [
    "# Image Classification\n",
    "In this project, you'll classify images from the [CIFAR-10 dataset](https://www.cs.toronto.edu/~kriz/cifar.html).  The dataset consists of airplanes, dogs, cats, and other objects. You'll preprocess the images, then train a convolutional neural network on all the samples. The images need to be normalized and the labels need to be one-hot encoded.  You'll get to apply what you learned and build a convolutional, max pooling, dropout, and fully connected layers.  At the end, you'll get to see your neural network's predictions on the sample images.\n",
    "## Get the Data\n",
    "Run the following cell to download the [CIFAR-10 dataset for python](https://www.cs.toronto.edu/~kriz/cifar-10-python.tar.gz)."
   ]
  },
  {
   "cell_type": "code",
   "execution_count": 1,
   "metadata": {
    "collapsed": false,
    "deletable": true,
    "editable": true
   },
   "outputs": [
    {
     "name": "stderr",
     "output_type": "stream",
     "text": [
      "CIFAR-10 Dataset: 171MB [00:54, 3.14MB/s]                              \n"
     ]
    },
    {
     "name": "stdout",
     "output_type": "stream",
     "text": [
      "All files found!\n"
     ]
    }
   ],
   "source": [
    "\"\"\"\n",
    "DON'T MODIFY ANYTHING IN THIS CELL THAT IS BELOW THIS LINE\n",
    "\"\"\"\n",
    "from urllib.request import urlretrieve\n",
    "from os.path import isfile, isdir\n",
    "from tqdm import tqdm\n",
    "import problem_unittests as tests\n",
    "import tarfile\n",
    "\n",
    "cifar10_dataset_folder_path = 'cifar-10-batches-py'\n",
    "\n",
    "# Use Floyd's cifar-10 dataset if present\n",
    "floyd_cifar10_location = '/input/cifar-10/python.tar.gz'\n",
    "if isfile(floyd_cifar10_location):\n",
    "    tar_gz_path = floyd_cifar10_location\n",
    "else:\n",
    "    tar_gz_path = 'cifar-10-python.tar.gz'\n",
    "\n",
    "class DLProgress(tqdm):\n",
    "    last_block = 0\n",
    "\n",
    "    def hook(self, block_num=1, block_size=1, total_size=None):\n",
    "        self.total = total_size\n",
    "        self.update((block_num - self.last_block) * block_size)\n",
    "        self.last_block = block_num\n",
    "\n",
    "if not isfile(tar_gz_path):\n",
    "    with DLProgress(unit='B', unit_scale=True, miniters=1, desc='CIFAR-10 Dataset') as pbar:\n",
    "        urlretrieve(\n",
    "            'https://www.cs.toronto.edu/~kriz/cifar-10-python.tar.gz',\n",
    "            tar_gz_path,\n",
    "            pbar.hook)\n",
    "\n",
    "if not isdir(cifar10_dataset_folder_path):\n",
    "    with tarfile.open(tar_gz_path) as tar:\n",
    "        tar.extractall()\n",
    "        tar.close()\n",
    "\n",
    "\n",
    "tests.test_folder_path(cifar10_dataset_folder_path)"
   ]
  },
  {
   "cell_type": "markdown",
   "metadata": {
    "deletable": true,
    "editable": true
   },
   "source": [
    "## Explore the Data\n",
    "The dataset is broken into batches to prevent your machine from running out of memory.  The CIFAR-10 dataset consists of 5 batches, named `data_batch_1`, `data_batch_2`, etc.. Each batch contains the labels and images that are one of the following:\n",
    "* airplane\n",
    "* automobile\n",
    "* bird\n",
    "* cat\n",
    "* deer\n",
    "* dog\n",
    "* frog\n",
    "* horse\n",
    "* ship\n",
    "* truck\n",
    "\n",
    "Understanding a dataset is part of making predictions on the data.  Play around with the code cell below by changing the `batch_id` and `sample_id`. The `batch_id` is the id for a batch (1-5). The `sample_id` is the id for a image and label pair in the batch.\n",
    "\n",
    "Ask yourself \"What are all possible labels?\", \"What is the range of values for the image data?\", \"Are the labels in order or random?\".  Answers to questions like these will help you preprocess the data and end up with better predictions."
   ]
  },
  {
   "cell_type": "code",
   "execution_count": 2,
   "metadata": {
    "collapsed": false,
    "deletable": true,
    "editable": true
   },
   "outputs": [
    {
     "name": "stdout",
     "output_type": "stream",
     "text": [
      "\n",
      "Stats of batch 1:\n",
      "Samples: 10000\n",
      "Label Counts: {0: 1005, 1: 974, 2: 1032, 3: 1016, 4: 999, 5: 937, 6: 1030, 7: 1001, 8: 1025, 9: 981}\n",
      "First 20 Labels: [6, 9, 9, 4, 1, 1, 2, 7, 8, 3, 4, 7, 7, 2, 9, 9, 9, 3, 2, 6]\n",
      "\n",
      "Example of Image 13:\n",
      "Image - Min Value: 0 Max Value: 244\n",
      "Image - Shape: (32, 32, 3)\n",
      "Label - Label Id: 2 Name: bird\n"
     ]
    },
    {
     "data": {
      "image/png": "[encoded data removed]",
      "text/plain": [
       "<matplotlib.figure.Figure at 0x7f76ca7a4048>"
      ]
     },
     "metadata": {
      "image/png": {
       "height": 250,
       "width": 253
      }
     },
     "output_type": "display_data"
    }
   ],
   "source": [
    "%matplotlib inline\n",
    "%config InlineBackend.figure_format = 'retina'\n",
    "\n",
    "import helper\n",
    "import numpy as np\n",
    "\n",
    "# Explore the dataset\n",
    "batch_id = 1\n",
    "sample_id = 13\n",
    "helper.display_stats(cifar10_dataset_folder_path, batch_id, sample_id)"
   ]
  },
  {
   "cell_type": "markdown",
   "metadata": {
    "deletable": true,
    "editable": true
   },
   "source": [
    "## Implement Preprocess Functions\n",
    "### Normalize\n",
    "In the cell below, implement the `normalize` function to take in image data, `x`, and return it as a normalized Numpy array. The values should be in the range of 0 to 1, inclusive.  The return object should be the same shape as `x`."
   ]
  },
  {
   "cell_type": "code",
   "execution_count": 3,
   "metadata": {
    "collapsed": false,
    "deletable": true,
    "editable": true
   },
   "outputs": [
    {
     "name": "stdout",
     "output_type": "stream",
     "text": [
      "Tests Passed\n"
     ]
    }
   ],
   "source": [
    "def normalize(x):\n",
    "    \"\"\"\n",
    "    Normalize a list of sample image data in the range of 0 to 1\n",
    "    : x: List of image data.  The image shape is (32, 32, 3)\n",
    "    : return: Numpy array of normalize data\n",
    "    \"\"\"\n",
    "    # Will assume that range is 0-255 (each a color intensity for each RGB channel).\n",
    "    # This means the minimum for our range is 0, the maximum is 255.\n",
    "    # Normalization is given by xn = (x - range_min) / (range_max - range_min)\n",
    "    # Plugging in our numbers: xn = (x - 0) / (255 - 0) = x / 255    \n",
    "    return x / 255\n",
    "\n",
    "\n",
    "\"\"\"\n",
    "DON'T MODIFY ANYTHING IN THIS CELL THAT IS BELOW THIS LINE\n",
    "\"\"\"\n",
    "tests.test_normalize(normalize)"
   ]
  },
  {
   "cell_type": "markdown",
   "metadata": {
    "deletable": true,
    "editable": true
   },
   "source": [
    "### One-hot encode\n",
    "Just like the previous code cell, you'll be implementing a function for preprocessing.  This time, you'll implement the `one_hot_encode` function. The input, `x`, are a list of labels.  Implement the function to return the list of labels as One-Hot encoded Numpy array.  The possible values for labels are 0 to 9. The one-hot encoding function should return the same encoding for each value between each call to `one_hot_encode`.  Make sure to save the map of encodings outside the function.\n",
    "\n",
    "Hint: Don't reinvent the wheel."
   ]
  },
  {
   "cell_type": "code",
   "execution_count": 40,
   "metadata": {
    "collapsed": false,
    "deletable": true,
    "editable": true
   },
   "outputs": [
    {
     "name": "stdout",
     "output_type": "stream",
     "text": [
      "Tests Passed\n"
     ]
    }
   ],
   "source": [
    "def one_hot_encode(x):\n",
    "    \"\"\"\n",
    "    One hot encode a list of sample labels. Return a one-hot encoded vector for each label.\n",
    "    : x: List of sample Labels\n",
    "    : return: Numpy array of one-hot encoded labels\n",
    "    \"\"\"\n",
    "    # Since we'll have labels from 0-9, we can assume that the result will be a hot-encoded 10-element array.\n",
    "    # E.g.: 0 -> [1 0 0 0 0 0 0 0 0 0]\n",
    "    #       1 -> [0 1 0 0 0 0 0 0 0 0]\n",
    "    #       ...\n",
    "    #       9 -> [0 0 0 0 0 0 0 0 0 1]\n",
    "    #\n",
    "    # So, basically, everything is a 0, except for the value indexed by the label itself.\n",
    "    \n",
    "    # Code inspired in http://stackoverflow.com/a/29831596/147507\n",
    "    \n",
    "    # As an example, let's say we have 50 labels to convert\n",
    "    label_count = len(x)\n",
    "    \n",
    "    # Array of zeros. Following our example, this will be shaped (50, 10). Ready to be one-hot-encoded.\n",
    "    one_hot_encoded = np.zeros((label_count, 10))\n",
    "    \n",
    "    # np.arange(label_count) will be 0..label_count-1 (0..49)\n",
    "    # x will be the value to be hot-encoded, since it's an array of the same dimension (50 in our example), each value\n",
    "    # is used to reference each row.\n",
    "    # So, if label values were [5 2 0 5 9], the first indexing values would be:\n",
    "    # - [0, 5]\n",
    "    # - [1, 2]\n",
    "    # - [2, 0]\n",
    "    # - [3, 5]\n",
    "    # - [4, 9]\n",
    "    \n",
    "    # Setting all of these to 1 has the effect of hot-encoding, since the label matches the index.\n",
    "    one_hot_encoded[np.arange(label_count), x] = 1.0\n",
    "    \n",
    "    return one_hot_encoded\n",
    "\n",
    "\"\"\"\n",
    "DON'T MODIFY ANYTHING IN THIS CELL THAT IS BELOW THIS LINE\n",
    "\"\"\"\n",
    "tests.test_one_hot_encode(one_hot_encode)"
   ]
  },
  {
   "cell_type": "markdown",
   "metadata": {
    "deletable": true,
    "editable": true
   },
   "source": [
    "### Randomize Data\n",
    "As you saw from exploring the data above, the order of the samples are randomized.  It doesn't hurt to randomize it again, but you don't need to for this dataset."
   ]
  },
  {
   "cell_type": "markdown",
   "metadata": {
    "deletable": true,
    "editable": true
   },
   "source": [
    "## Preprocess all the data and save it\n",
    "Running the code cell below will preprocess all the CIFAR-10 data and save it to file. The code below also uses 10% of the training data for validation."
   ]
  },
  {
   "cell_type": "code",
   "execution_count": 41,
   "metadata": {
    "collapsed": false,
    "deletable": true,
    "editable": true
   },
   "outputs": [],
   "source": [
    "\"\"\"\n",
    "DON'T MODIFY ANYTHING IN THIS CELL\n",
    "\"\"\"\n",
    "# Preprocess Training, Validation, and Testing Data\n",
    "helper.preprocess_and_save_data(cifar10_dataset_folder_path, normalize, one_hot_encode)"
   ]
  },
  {
   "cell_type": "markdown",
   "metadata": {
    "deletable": true,
    "editable": true
   },
   "source": [
    "# Check Point\n",
    "This is your first checkpoint.  If you ever decide to come back to this notebook or have to restart the notebook, you can start from here.  The preprocessed data has been saved to disk."
   ]
  },
  {
   "cell_type": "code",
   "execution_count": 42,
   "metadata": {
    "collapsed": true,
    "deletable": true,
    "editable": true
   },
   "outputs": [],
   "source": [
    "\"\"\"\n",
    "DON'T MODIFY ANYTHING IN THIS CELL\n",
    "\"\"\"\n",
    "import pickle\n",
    "import problem_unittests as tests\n",
    "import helper\n",
    "\n",
    "# Load the Preprocessed Validation data\n",
    "valid_features, valid_labels = pickle.load(open('preprocess_validation.p', mode='rb'))"
   ]
  },
  {
   "cell_type": "markdown",
   "metadata": {
    "deletable": true,
    "editable": true
   },
   "source": [
    "## Build the network\n",
    "For the neural network, you'll build each layer into a function.  Most of the code you've seen has been outside of functions. To test your code more thoroughly, we require that you put each layer in a function.  This allows us to give you better feedback and test for simple mistakes using our unittests before you submit your project.\n",
    "\n",
    ">**Note:** If you're finding it hard to dedicate enough time for this course each week, we've provided a small shortcut to this part of the project. In the next couple of problems, you'll have the option to use classes from the [TensorFlow Layers](https://www.tensorflow.org/api_docs/python/tf/layers) or [TensorFlow Layers (contrib)](https://www.tensorflow.org/api_guides/python/contrib.layers) packages to build each layer, except the layers you build in the \"Convolutional and Max Pooling Layer\" section.  TF Layers is similar to Keras's and TFLearn's abstraction to layers, so it's easy to pickup.\n",
    "\n",
    ">However, if you would like to get the most out of this course, try to solve all the problems _without_ using anything from the TF Layers packages. You **can** still use classes from other packages that happen to have the same name as ones you find in TF Layers! For example, instead of using the TF Layers version of the `conv2d` class, [tf.layers.conv2d](https://www.tensorflow.org/api_docs/python/tf/layers/conv2d), you would want to use the TF Neural Network version of `conv2d`, [tf.nn.conv2d](https://www.tensorflow.org/api_docs/python/tf/nn/conv2d). \n",
    "\n",
    "Let's begin!\n",
    "\n",
    "### Input\n",
    "The neural network needs to read the image data, one-hot encoded labels, and dropout keep probability. Implement the following functions\n",
    "* Implement `neural_net_image_input`\n",
    " * Return a [TF Placeholder](https://www.tensorflow.org/api_docs/python/tf/placeholder)\n",
    " * Set the shape using `image_shape` with batch size set to `None`.\n",
    " * Name the TensorFlow placeholder \"x\" using the TensorFlow `name` parameter in the [TF Placeholder](https://www.tensorflow.org/api_docs/python/tf/placeholder).\n",
    "* Implement `neural_net_label_input`\n",
    " * Return a [TF Placeholder](https://www.tensorflow.org/api_docs/python/tf/placeholder)\n",
    " * Set the shape using `n_classes` with batch size set to `None`.\n",
    " * Name the TensorFlow placeholder \"y\" using the TensorFlow `name` parameter in the [TF Placeholder](https://www.tensorflow.org/api_docs/python/tf/placeholder).\n",
    "* Implement `neural_net_keep_prob_input`\n",
    " * Return a [TF Placeholder](https://www.tensorflow.org/api_docs/python/tf/placeholder) for dropout keep probability.\n",
    " * Name the TensorFlow placeholder \"keep_prob\" using the TensorFlow `name` parameter in the [TF Placeholder](https://www.tensorflow.org/api_docs/python/tf/placeholder).\n",
    "\n",
    "These names will be used at the end of the project to load your saved model.\n",
    "\n",
    "Note: `None` for shapes in TensorFlow allow for a dynamic size."
   ]
  },
  {
   "cell_type": "code",
   "execution_count": 7,
   "metadata": {
    "collapsed": false,
    "deletable": true,
    "editable": true
   },
   "outputs": [
    {
     "name": "stdout",
     "output_type": "stream",
     "text": [
      "Image Input Tests Passed.\n",
      "Label Input Tests Passed.\n",
      "Keep Prob Tests Passed.\n"
     ]
    }
   ],
   "source": [
    "import tensorflow as tf\n",
    "\n",
    "def neural_net_image_input(image_shape):\n",
    "    \"\"\"\n",
    "    Return a Tensor for a batch of image input\n",
    "    : image_shape: Shape of the images\n",
    "    : return: Tensor for image input.\n",
    "    \"\"\"\n",
    "    shape_with_batch = (None,) + image_shape\n",
    "    return tf.placeholder(tf.float32, shape=shape_with_batch, name=\"x\")\n",
    "\n",
    "\n",
    "def neural_net_label_input(n_classes):\n",
    "    \"\"\"\n",
    "    Return a Tensor for a batch of label input\n",
    "    : n_classes: Number of classes\n",
    "    : return: Tensor for label input.\n",
    "    \"\"\"\n",
    "    shape_with_batch = (None, n_classes)\n",
    "    return tf.placeholder(tf.float32, shape=shape_with_batch, name=\"y\")\n",
    "\n",
    "\n",
    "def neural_net_keep_prob_input():\n",
    "    \"\"\"\n",
    "    Return a Tensor for keep probability\n",
    "    : return: Tensor for keep probability.\n",
    "    \"\"\"\n",
    "    return tf.placeholder(tf.float32, name=\"keep_prob\")\n",
    "\n",
    "\n",
    "\"\"\"\n",
    "DON'T MODIFY ANYTHING IN THIS CELL THAT IS BELOW THIS LINE\n",
    "\"\"\"\n",
    "tf.reset_default_graph()\n",
    "tests.test_nn_image_inputs(neural_net_image_input)\n",
    "tests.test_nn_label_inputs(neural_net_label_input)\n",
    "tests.test_nn_keep_prob_inputs(neural_net_keep_prob_input)"
   ]
  },
  {
   "cell_type": "markdown",
   "metadata": {
    "deletable": true,
    "editable": true
   },
   "source": [
    "### Convolution and Max Pooling Layer\n",
    "Convolution layers have a lot of success with images. For this code cell, you should implement the function `conv2d_maxpool` to apply convolution then max pooling:\n",
    "* Create the weight and bias using `conv_ksize`, `conv_num_outputs` and the shape of `x_tensor`.\n",
    "* Apply a convolution to `x_tensor` using weight and `conv_strides`.\n",
    " * We recommend you use same padding, but you're welcome to use any padding.\n",
    "* Add bias\n",
    "* Add a nonlinear activation to the convolution.\n",
    "* Apply Max Pooling using `pool_ksize` and `pool_strides`.\n",
    " * We recommend you use same padding, but you're welcome to use any padding.\n",
    "\n",
    "**Note:** You **can't** use [TensorFlow Layers](https://www.tensorflow.org/api_docs/python/tf/layers) or [TensorFlow Layers (contrib)](https://www.tensorflow.org/api_guides/python/contrib.layers) for **this** layer, but you can still use TensorFlow's [Neural Network](https://www.tensorflow.org/api_docs/python/tf/nn) package. You may still use the shortcut option for all the **other** layers."
   ]
  },
  {
   "cell_type": "code",
   "execution_count": 89,
   "metadata": {
    "collapsed": false,
    "deletable": true,
    "editable": true
   },
   "outputs": [
    {
     "name": "stdout",
     "output_type": "stream",
     "text": [
      "Tests Passed\n"
     ]
    }
   ],
   "source": [
    "def conv2d_maxpool(x_tensor, conv_num_outputs, conv_ksize, conv_strides, pool_ksize, pool_strides):\n",
    "    \"\"\"\n",
    "    Apply convolution then max pooling to x_tensor\n",
    "    :param x_tensor: TensorFlow Tensor\n",
    "    :param conv_num_outputs: Number of outputs for the convolutional layer\n",
    "    :param conv_ksize: kernal size 2-D Tuple for the convolutional layer\n",
    "    :param conv_strides: Stride 2-D Tuple for convolution\n",
    "    :param pool_ksize: kernel size 2-D Tuple for pool\n",
    "    :param pool_strides: Stride 2-D Tuple for pool\n",
    "    : return: A tensor that represents convolution and max pooling of x_tensor\n",
    "    \"\"\"\n",
    "    # we know the last element of the tensor shape is the current amount of channels\n",
    "    # using .value since each element in the tensor shape is actually a tf.Dimension object\n",
    "    x_tensor_channels = x_tensor.shape[-1].value\n",
    "\n",
    "    # weights_shape will have the elements of conv_ksize and the channels an\n",
    "    weights_shape = conv_ksize + (x_tensor_channels, conv_num_outputs)\n",
    "    \n",
    "    # formatting the strides for the way tensorflow accepts the parameter\n",
    "    # this will have [1, values from conv_strides, 1]\n",
    "    strides_parameter = [1] + list(conv_strides) + [1]\n",
    "    \n",
    "    # create weights variable, using truncated normal as initialization values\n",
    "    # tip from the forum: https://discussions.udacity.com/t/another-stuck-at-low-accuracy-thread/226530/12\n",
    "    # setting the stddev to 0.1 makes a huge deal of a difference in how fast the network converges\n",
    "    weights = tf.Variable(tf.truncated_normal(weights_shape, mean=0.0, stddev=0.1))    \n",
    "    \n",
    "    # create convolution\n",
    "    # tf.nn.conv2d takes parameters:\n",
    "    # - input: [batch, in_height, in_width, in_channels]\n",
    "    # - filter: [filter_height, filter_width, in_channels, out_channels]\n",
    "    # - strides: [1, stride_size, stride_size, 1]\n",
    "    # - padding: 'SAME' or 'VALID'\n",
    "    convolution = tf.nn.conv2d(x_tensor, weights, strides=strides_parameter, padding='SAME')\n",
    "    \n",
    "    # the bias will just be the same dimension as the outputs, since we're just going to add them\n",
    "    bias = tf.Variable(tf.zeros(conv_num_outputs))\n",
    "    \n",
    "    # add bias to convolution\n",
    "    layer = convolution + bias\n",
    "    \n",
    "    # apply non-linear activation function\n",
    "    layer = tf.nn.relu(layer)\n",
    "    \n",
    "    # prepare parameters for tensorflow method (see above)\n",
    "    pool_ksize_parameter = [1] + list(pool_ksize) + [1]\n",
    "    pool_strides_parameter = [1] + list(pool_strides) + [1]\n",
    "    \n",
    "    # max-pool the layer results\n",
    "    pooled_layer = tf.nn.max_pool(layer, pool_ksize_parameter, pool_strides_parameter, padding='SAME')\n",
    "    \n",
    "    return pooled_layer\n",
    "\n",
    "\n",
    "\"\"\"\n",
    "DON'T MODIFY ANYTHING IN THIS CELL THAT IS BELOW THIS LINE\n",
    "\"\"\"\n",
    "tests.test_con_pool(conv2d_maxpool)"
   ]
  },
  {
   "cell_type": "markdown",
   "metadata": {
    "deletable": true,
    "editable": true
   },
   "source": [
    "### Flatten Layer\n",
    "Implement the `flatten` function to change the dimension of `x_tensor` from a 4-D tensor to a 2-D tensor.  The output should be the shape (*Batch Size*, *Flattened Image Size*). Shortcut option: you can use classes from the [TensorFlow Layers](https://www.tensorflow.org/api_docs/python/tf/layers) or [TensorFlow Layers (contrib)](https://www.tensorflow.org/api_guides/python/contrib.layers) packages for this layer. For more of a challenge, only use other TensorFlow packages."
   ]
  },
  {
   "cell_type": "code",
   "execution_count": 44,
   "metadata": {
    "collapsed": false,
    "deletable": true,
    "editable": true
   },
   "outputs": [
    {
     "name": "stdout",
     "output_type": "stream",
     "text": [
      "Tests Passed\n"
     ]
    }
   ],
   "source": [
    "def flatten(x_tensor):\n",
    "    \"\"\"\n",
    "    Flatten x_tensor to (Batch Size, Flattened Image Size)\n",
    "    : x_tensor: A tensor of size (Batch Size, ...), where ... are the image dimensions.\n",
    "    : return: A tensor of size (Batch Size, Flattened Image Size).\n",
    "    \"\"\"\n",
    "    return tf.contrib.layers.flatten(x_tensor)\n",
    "\n",
    "\n",
    "\"\"\"\n",
    "DON'T MODIFY ANYTHING IN THIS CELL THAT IS BELOW THIS LINE\n",
    "\"\"\"\n",
    "tests.test_flatten(flatten)"
   ]
  },
  {
   "cell_type": "markdown",
   "metadata": {
    "deletable": true,
    "editable": true
   },
   "source": [
    "### Fully-Connected Layer\n",
    "Implement the `fully_conn` function to apply a fully connected layer to `x_tensor` with the shape (*Batch Size*, *num_outputs*). Shortcut option: you can use classes from the [TensorFlow Layers](https://www.tensorflow.org/api_docs/python/tf/layers) or [TensorFlow Layers (contrib)](https://www.tensorflow.org/api_guides/python/contrib.layers) packages for this layer. For more of a challenge, only use other TensorFlow packages."
   ]
  },
  {
   "cell_type": "code",
   "execution_count": 45,
   "metadata": {
    "collapsed": false,
    "deletable": true,
    "editable": true
   },
   "outputs": [
    {
     "name": "stdout",
     "output_type": "stream",
     "text": [
      "Tests Passed\n"
     ]
    }
   ],
   "source": [
    "def fully_conn(x_tensor, num_outputs):\n",
    "    \"\"\"\n",
    "    Apply a fully connected layer to x_tensor using weight and bias\n",
    "    : x_tensor: A 2-D tensor where the first dimension is batch size.\n",
    "    : num_outputs: The number of output that the new tensor should be.\n",
    "    : return: A 2-D tensor where the second dimension is num_outputs.\n",
    "    \"\"\"\n",
    "    return tf.contrib.layers.fully_connected(inputs=x_tensor, num_outputs=num_outputs)\n",
    "\n",
    "\n",
    "\"\"\"\n",
    "DON'T MODIFY ANYTHING IN THIS CELL THAT IS BELOW THIS LINE\n",
    "\"\"\"\n",
    "tests.test_fully_conn(fully_conn)"
   ]
  },
  {
   "cell_type": "markdown",
   "metadata": {
    "deletable": true,
    "editable": true
   },
   "source": [
    "### Output Layer\n",
    "Implement the `output` function to apply a fully connected layer to `x_tensor` with the shape (*Batch Size*, *num_outputs*). Shortcut option: you can use classes from the [TensorFlow Layers](https://www.tensorflow.org/api_docs/python/tf/layers) or [TensorFlow Layers (contrib)](https://www.tensorflow.org/api_guides/python/contrib.layers) packages for this layer. For more of a challenge, only use other TensorFlow packages.\n",
    "\n",
    "**Note:** Activation, softmax, or cross entropy should **not** be applied to this."
   ]
  },
  {
   "cell_type": "code",
   "execution_count": 46,
   "metadata": {
    "collapsed": false,
    "deletable": true,
    "editable": true
   },
   "outputs": [
    {
     "name": "stdout",
     "output_type": "stream",
     "text": [
      "Tests Passed\n"
     ]
    }
   ],
   "source": [
    "def output(x_tensor, num_outputs):\n",
    "    \"\"\"\n",
    "    Apply a output layer to x_tensor using weight and bias\n",
    "    : x_tensor: A 2-D tensor where the first dimension is batch size.\n",
    "    : num_outputs: The number of output that the new tensor should be.\n",
    "    : return: A 2-D tensor where the second dimension is num_outputs.\n",
    "    \"\"\"\n",
    "    return tf.contrib.layers.fully_connected(inputs=x_tensor, num_outputs=num_outputs, activation_fn=None)\n",
    "\n",
    "\n",
    "\"\"\"\n",
    "DON'T MODIFY ANYTHING IN THIS CELL THAT IS BELOW THIS LINE\n",
    "\"\"\"\n",
    "tests.test_output(output)"
   ]
  },
  {
   "cell_type": "markdown",
   "metadata": {
    "deletable": true,
    "editable": true
   },
   "source": [
    "### Create Convolutional Model\n",
    "Implement the function `conv_net` to create a convolutional neural network model. The function takes in a batch of images, `x`, and outputs logits.  Use the layers you created above to create this model:\n",
    "\n",
    "* Apply 1, 2, or 3 Convolution and Max Pool layers\n",
    "* Apply a Flatten Layer\n",
    "* Apply 1, 2, or 3 Fully Connected Layers\n",
    "* Apply an Output Layer\n",
    "* Return the output\n",
    "* Apply [TensorFlow's Dropout](https://www.tensorflow.org/api_docs/python/tf/nn/dropout) to one or more layers in the model using `keep_prob`. "
   ]
  },
  {
   "cell_type": "code",
   "execution_count": 84,
   "metadata": {
    "collapsed": false,
    "deletable": true,
    "editable": true
   },
   "outputs": [
    {
     "name": "stdout",
     "output_type": "stream",
     "text": [
      "Neural Network Built!\n"
     ]
    }
   ],
   "source": [
    "def conv_net(x, keep_prob):\n",
    "    \"\"\"\n",
    "    Create a convolutional neural network model\n",
    "    : x: Placeholder tensor that holds image data.\n",
    "    : keep_prob: Placeholder tensor that hold dropout keep probability.\n",
    "    : return: Tensor that represents logits\n",
    "    \"\"\"\n",
    "    \n",
    "    net = x\n",
    "\n",
    "    net = conv2d_maxpool(x_tensor=net, conv_num_outputs=50, conv_ksize=(10, 10), conv_strides=(5, 5), pool_ksize=(5, 5), pool_strides=(3, 3))\n",
    "    net = conv2d_maxpool(x_tensor=net, conv_num_outputs=300, conv_ksize=(5, 5), conv_strides=(1, 1), pool_ksize=(2, 2), pool_strides=(1, 1))\n",
    "    \n",
    "    net = flatten(net)\n",
    "    \n",
    "    net = fully_conn(net, 300)\n",
    "    net = tf.nn.dropout(net, keep_prob)\n",
    "    \n",
    "    net = output(net, 10)\n",
    "    \n",
    "    # TODO: return output\n",
    "    return net\n",
    "\n",
    "\n",
    "\"\"\"\n",
    "DON'T MODIFY ANYTHING IN THIS CELL THAT IS BELOW THIS LINE\n",
    "\"\"\"\n",
    "\n",
    "##############################\n",
    "## Build the Neural Network ##\n",
    "##############################\n",
    "\n",
    "# Remove previous weights, bias, inputs, etc..\n",
    "tf.reset_default_graph()\n",
    "\n",
    "# Inputs\n",
    "x = neural_net_image_input((32, 32, 3))\n",
    "y = neural_net_label_input(10)\n",
    "keep_prob = neural_net_keep_prob_input()\n",
    "\n",
    "# Model\n",
    "logits = conv_net(x, keep_prob)\n",
    "\n",
    "# Name logits Tensor, so that is can be loaded from disk after training\n",
    "logits = tf.identity(logits, name='logits')\n",
    "\n",
    "# Loss and Optimizer\n",
    "cost = tf.reduce_mean(tf.nn.softmax_cross_entropy_with_logits(logits=logits, labels=y))\n",
    "optimizer = tf.train.AdamOptimizer().minimize(cost)\n",
    "\n",
    "# Accuracy\n",
    "correct_pred = tf.equal(tf.argmax(logits, 1), tf.argmax(y, 1))\n",
    "accuracy = tf.reduce_mean(tf.cast(correct_pred, tf.float32), name='accuracy')\n",
    "\n",
    "tests.test_conv_net(conv_net)"
   ]
  },
  {
   "cell_type": "markdown",
   "metadata": {
    "deletable": true,
    "editable": true
   },
   "source": [
    "## Train the Neural Network\n",
    "### Single Optimization\n",
    "Implement the function `train_neural_network` to do a single optimization.  The optimization should use `optimizer` to optimize in `session` with a `feed_dict` of the following:\n",
    "* `x` for image input\n",
    "* `y` for labels\n",
    "* `keep_prob` for keep probability for dropout\n",
    "\n",
    "This function will be called for each batch, so `tf.global_variables_initializer()` has already been called.\n",
    "\n",
    "Note: Nothing needs to be returned. This function is only optimizing the neural network."
   ]
  },
  {
   "cell_type": "code",
   "execution_count": 65,
   "metadata": {
    "collapsed": false,
    "deletable": true,
    "editable": true
   },
   "outputs": [
    {
     "name": "stdout",
     "output_type": "stream",
     "text": [
      "Tests Passed\n"
     ]
    }
   ],
   "source": [
    "def train_neural_network(session, optimizer, keep_probability, feature_batch, label_batch):\n",
    "    \"\"\"\n",
    "    Optimize the session on a batch of images and labels\n",
    "    : session: Current TensorFlow session\n",
    "    : optimizer: TensorFlow optimizer function\n",
    "    : keep_probability: keep probability\n",
    "    : feature_batch: Batch of Numpy image data\n",
    "    : label_batch: Batch of Numpy label data\n",
    "    \"\"\"\n",
    "    session.run(optimizer, feed_dict={\n",
    "        x: feature_batch,\n",
    "        y: label_batch,\n",
    "        keep_prob: keep_probability\n",
    "    })\n",
    "\n",
    "\"\"\"\n",
    "DON'T MODIFY ANYTHING IN THIS CELL THAT IS BELOW THIS LINE\n",
    "\"\"\"\n",
    "tests.test_train_nn(train_neural_network)"
   ]
  },
  {
   "cell_type": "markdown",
   "metadata": {
    "deletable": true,
    "editable": true
   },
   "source": [
    "### Show Stats\n",
    "Implement the function `print_stats` to print loss and validation accuracy.  Use the global variables `valid_features` and `valid_labels` to calculate validation accuracy.  Use a keep probability of `1.0` to calculate the loss and validation accuracy."
   ]
  },
  {
   "cell_type": "code",
   "execution_count": 66,
   "metadata": {
    "collapsed": false,
    "deletable": true,
    "editable": true
   },
   "outputs": [],
   "source": [
    "def print_stats(session, feature_batch, label_batch, cost, accuracy):\n",
    "    \"\"\"\n",
    "    Print information about loss and validation accuracy\n",
    "    : session: Current TensorFlow session\n",
    "    : feature_batch: Batch of Numpy image data\n",
    "    : label_batch: Batch of Numpy label data\n",
    "    : cost: TensorFlow cost function\n",
    "    : accuracy: TensorFlow accuracy function\n",
    "    \"\"\"\n",
    "    cost_result = session.run(cost, feed_dict={\n",
    "        x: feature_batch,\n",
    "        y: label_batch,\n",
    "        keep_prob: 1.0\n",
    "    })\n",
    "    accuracy_result = session.run(accuracy, feed_dict={\n",
    "        x: feature_batch,\n",
    "        y: label_batch,\n",
    "        keep_prob: 1.0\n",
    "    })\n",
    "    \n",
    "    print('Cost: {:<6.5}, Accuracy: {:<5.4}%'.format(cost_result, accuracy_result * 100.0))"
   ]
  },
  {
   "cell_type": "markdown",
   "metadata": {
    "deletable": true,
    "editable": true
   },
   "source": [
    "### Hyperparameters\n",
    "Tune the following parameters:\n",
    "* Set `epochs` to the number of iterations until the network stops learning or start overfitting\n",
    "* Set `batch_size` to the highest number that your machine has memory for.  Most people set them to common sizes of memory:\n",
    " * 64\n",
    " * 128\n",
    " * 256\n",
    " * ...\n",
    "* Set `keep_probability` to the probability of keeping a node using dropout"
   ]
  },
  {
   "cell_type": "code",
   "execution_count": 95,
   "metadata": {
    "collapsed": true,
    "deletable": true,
    "editable": true
   },
   "outputs": [],
   "source": [
    "epochs = 40 # after this, it seems the network starts overfitting\n",
    "batch_size = 8192\n",
    "keep_probability = 0.8"
   ]
  },
  {
   "cell_type": "markdown",
   "metadata": {
    "deletable": true,
    "editable": true
   },
   "source": [
    "### Train on a Single CIFAR-10 Batch\n",
    "Instead of training the neural network on all the CIFAR-10 batches of data, let's use a single batch. This should save time while you iterate on the model to get a better accuracy.  Once the final validation accuracy is 50% or greater, run the model on all the data in the next section."
   ]
  },
  {
   "cell_type": "code",
   "execution_count": 93,
   "metadata": {
    "collapsed": false,
    "deletable": true,
    "editable": true
   },
   "outputs": [
    {
     "name": "stdout",
     "output_type": "stream",
     "text": [
      "Checking the Training on a Single Batch...\n",
      "Epoch  1, CIFAR-10 Batch 1:  Cost: 7.4276, Accuracy: 9.53 %\n",
      "Epoch  2, CIFAR-10 Batch 1:  Cost: 5.7967, Accuracy: 13.49%\n",
      "Epoch  3, CIFAR-10 Batch 1:  Cost: 3.9015, Accuracy: 18.07%\n",
      "Epoch  4, CIFAR-10 Batch 1:  Cost: 3.0769, Accuracy: 14.11%\n",
      "Epoch  5, CIFAR-10 Batch 1:  Cost: 2.6115, Accuracy: 15.59%\n",
      "Epoch  6, CIFAR-10 Batch 1:  Cost: 2.3591, Accuracy: 18.69%\n",
      "Epoch  7, CIFAR-10 Batch 1:  Cost: 2.2631, Accuracy: 19.55%\n",
      "Epoch  8, CIFAR-10 Batch 1:  Cost: 2.248 , Accuracy: 18.44%\n",
      "Epoch  9, CIFAR-10 Batch 1:  Cost: 2.236 , Accuracy: 19.55%\n",
      "Epoch 10, CIFAR-10 Batch 1:  Cost: 2.207 , Accuracy: 25.0 %\n",
      "Epoch 11, CIFAR-10 Batch 1:  Cost: 2.1729, Accuracy: 25.74%\n",
      "Epoch 12, CIFAR-10 Batch 1:  Cost: 2.1385, Accuracy: 26.36%\n",
      "Epoch 13, CIFAR-10 Batch 1:  Cost: 2.0919, Accuracy: 28.34%\n",
      "Epoch 14, CIFAR-10 Batch 1:  Cost: 2.045 , Accuracy: 28.59%\n",
      "Epoch 15, CIFAR-10 Batch 1:  Cost: 2.0005, Accuracy: 30.57%\n",
      "Epoch 16, CIFAR-10 Batch 1:  Cost: 1.9596, Accuracy: 31.06%\n",
      "Epoch 17, CIFAR-10 Batch 1:  Cost: 1.9192, Accuracy: 33.91%\n",
      "Epoch 18, CIFAR-10 Batch 1:  Cost: 1.8789, Accuracy: 36.14%\n",
      "Epoch 19, CIFAR-10 Batch 1:  Cost: 1.8395, Accuracy: 38.24%\n",
      "Epoch 20, CIFAR-10 Batch 1:  Cost: 1.8033, Accuracy: 38.74%\n",
      "Epoch 21, CIFAR-10 Batch 1:  Cost: 1.7675, Accuracy: 40.1 %\n",
      "Epoch 22, CIFAR-10 Batch 1:  Cost: 1.7307, Accuracy: 41.96%\n",
      "Epoch 23, CIFAR-10 Batch 1:  Cost: 1.693 , Accuracy: 44.06%\n",
      "Epoch 24, CIFAR-10 Batch 1:  Cost: 1.6577, Accuracy: 42.82%\n",
      "Epoch 25, CIFAR-10 Batch 1:  Cost: 1.6269, Accuracy: 47.15%\n",
      "Epoch 26, CIFAR-10 Batch 1:  Cost: 1.5979, Accuracy: 47.77%\n",
      "Epoch 27, CIFAR-10 Batch 1:  Cost: 1.5642, Accuracy: 48.02%\n",
      "Epoch 28, CIFAR-10 Batch 1:  Cost: 1.5319, Accuracy: 49.26%\n",
      "Epoch 29, CIFAR-10 Batch 1:  Cost: 1.5025, Accuracy: 51.36%\n",
      "Epoch 30, CIFAR-10 Batch 1:  Cost: 1.4736, Accuracy: 51.24%\n",
      "Epoch 31, CIFAR-10 Batch 1:  Cost: 1.4442, Accuracy: 51.11%\n",
      "Epoch 32, CIFAR-10 Batch 1:  Cost: 1.4097, Accuracy: 54.46%\n",
      "Epoch 33, CIFAR-10 Batch 1:  Cost: 1.3808, Accuracy: 55.45%\n",
      "Epoch 34, CIFAR-10 Batch 1:  Cost: 1.3664, Accuracy: 54.95%\n",
      "Epoch 35, CIFAR-10 Batch 1:  Cost: 1.3425, Accuracy: 57.67%\n",
      "Epoch 36, CIFAR-10 Batch 1:  Cost: 1.3264, Accuracy: 57.05%\n",
      "Epoch 37, CIFAR-10 Batch 1:  Cost: 1.3013, Accuracy: 58.79%\n",
      "Epoch 38, CIFAR-10 Batch 1:  Cost: 1.2704, Accuracy: 59.16%\n",
      "Epoch 39, CIFAR-10 Batch 1:  Cost: 1.2444, Accuracy: 62.13%\n",
      "Epoch 40, CIFAR-10 Batch 1:  Cost: 1.2205, Accuracy: 61.51%\n"
     ]
    }
   ],
   "source": [
    "\"\"\"\n",
    "DON'T MODIFY ANYTHING IN THIS CELL\n",
    "\"\"\"\n",
    "print('Checking the Training on a Single Batch...')\n",
    "with tf.Session() as sess:\n",
    "    # Initializing the variables\n",
    "    sess.run(tf.global_variables_initializer())\n",
    "    \n",
    "    # Training cycle\n",
    "    for epoch in range(epochs):\n",
    "        batch_i = 1\n",
    "        for batch_features, batch_labels in helper.load_preprocess_training_batch(batch_i, batch_size):\n",
    "            train_neural_network(sess, optimizer, keep_probability, batch_features, batch_labels)\n",
    "        print('Epoch {:>2}, CIFAR-10 Batch {}:  '.format(epoch + 1, batch_i), end='')\n",
    "        print_stats(sess, batch_features, batch_labels, cost, accuracy)"
   ]
  },
  {
   "cell_type": "markdown",
   "metadata": {
    "deletable": true,
    "editable": true
   },
   "source": [
    "### Fully Train the Model\n",
    "Now that you got a good accuracy with a single CIFAR-10 batch, try it with all five batches."
   ]
  },
  {
   "cell_type": "code",
   "execution_count": 94,
   "metadata": {
    "collapsed": false,
    "deletable": true,
    "editable": true
   },
   "outputs": [
    {
     "name": "stdout",
     "output_type": "stream",
     "text": [
      "Training...\n",
      "Epoch  1, CIFAR-10 Batch 1:  Cost: 6.5286, Accuracy: 11.01%\n",
      "Epoch  1, CIFAR-10 Batch 2:  Cost: 3.8894, Accuracy: 12.38%\n",
      "Epoch  1, CIFAR-10 Batch 3:  Cost: 2.3168, Accuracy: 17.95%\n",
      "Epoch  1, CIFAR-10 Batch 4:  Cost: 2.3381, Accuracy: 10.52%\n",
      "Epoch  1, CIFAR-10 Batch 5:  Cost: 2.3025, Accuracy: 15.1 %\n",
      "Epoch  2, CIFAR-10 Batch 1:  Cost: 2.272 , Accuracy: 13.99%\n",
      "Epoch  2, CIFAR-10 Batch 2:  Cost: 2.2628, Accuracy: 17.33%\n",
      "Epoch  2, CIFAR-10 Batch 3:  Cost: 2.2495, Accuracy: 17.57%\n",
      "Epoch  2, CIFAR-10 Batch 4:  Cost: 2.2126, Accuracy: 15.97%\n",
      "Epoch  2, CIFAR-10 Batch 5:  Cost: 2.1935, Accuracy: 17.7 %\n",
      "Epoch  3, CIFAR-10 Batch 1:  Cost: 2.166 , Accuracy: 23.64%\n",
      "Epoch  3, CIFAR-10 Batch 2:  Cost: 2.1412, Accuracy: 24.26%\n",
      "Epoch  3, CIFAR-10 Batch 3:  Cost: 2.1083, Accuracy: 26.36%\n",
      "Epoch  3, CIFAR-10 Batch 4:  Cost: 2.0481, Accuracy: 26.98%\n",
      "Epoch  3, CIFAR-10 Batch 5:  Cost: 2.0379, Accuracy: 27.6 %\n",
      "Epoch  4, CIFAR-10 Batch 1:  Cost: 1.9977, Accuracy: 32.43%\n",
      "Epoch  4, CIFAR-10 Batch 2:  Cost: 1.9806, Accuracy: 29.83%\n",
      "Epoch  4, CIFAR-10 Batch 3:  Cost: 1.9432, Accuracy: 31.81%\n",
      "Epoch  4, CIFAR-10 Batch 4:  Cost: 1.885 , Accuracy: 32.18%\n",
      "Epoch  4, CIFAR-10 Batch 5:  Cost: 1.8926, Accuracy: 32.18%\n",
      "Epoch  5, CIFAR-10 Batch 1:  Cost: 1.8498, Accuracy: 34.9 %\n",
      "Epoch  5, CIFAR-10 Batch 2:  Cost: 1.8429, Accuracy: 34.9 %\n",
      "Epoch  5, CIFAR-10 Batch 3:  Cost: 1.7935, Accuracy: 37.0 %\n",
      "Epoch  5, CIFAR-10 Batch 4:  Cost: 1.7685, Accuracy: 37.87%\n",
      "Epoch  5, CIFAR-10 Batch 5:  Cost: 1.7877, Accuracy: 35.89%\n",
      "Epoch  6, CIFAR-10 Batch 1:  Cost: 1.735 , Accuracy: 40.35%\n",
      "Epoch  6, CIFAR-10 Batch 2:  Cost: 1.7441, Accuracy: 37.13%\n",
      "Epoch  6, CIFAR-10 Batch 3:  Cost: 1.6741, Accuracy: 41.71%\n",
      "Epoch  6, CIFAR-10 Batch 4:  Cost: 1.6733, Accuracy: 40.59%\n",
      "Epoch  6, CIFAR-10 Batch 5:  Cost: 1.7014, Accuracy: 39.6 %\n",
      "Epoch  7, CIFAR-10 Batch 1:  Cost: 1.6692, Accuracy: 43.81%\n",
      "Epoch  7, CIFAR-10 Batch 2:  Cost: 1.6902, Accuracy: 39.23%\n",
      "Epoch  7, CIFAR-10 Batch 3:  Cost: 1.6174, Accuracy: 44.06%\n",
      "Epoch  7, CIFAR-10 Batch 4:  Cost: 1.6123, Accuracy: 44.18%\n",
      "Epoch  7, CIFAR-10 Batch 5:  Cost: 1.6312, Accuracy: 41.21%\n",
      "Epoch  8, CIFAR-10 Batch 1:  Cost: 1.5939, Accuracy: 46.53%\n",
      "Epoch  8, CIFAR-10 Batch 2:  Cost: 1.6134, Accuracy: 42.45%\n",
      "Epoch  8, CIFAR-10 Batch 3:  Cost: 1.5293, Accuracy: 47.9 %\n",
      "Epoch  8, CIFAR-10 Batch 4:  Cost: 1.5434, Accuracy: 46.04%\n",
      "Epoch  8, CIFAR-10 Batch 5:  Cost: 1.5654, Accuracy: 44.31%\n",
      "Epoch  9, CIFAR-10 Batch 1:  Cost: 1.5341, Accuracy: 48.76%\n",
      "Epoch  9, CIFAR-10 Batch 2:  Cost: 1.5783, Accuracy: 44.55%\n",
      "Epoch  9, CIFAR-10 Batch 3:  Cost: 1.498 , Accuracy: 48.27%\n",
      "Epoch  9, CIFAR-10 Batch 4:  Cost: 1.5066, Accuracy: 47.77%\n",
      "Epoch  9, CIFAR-10 Batch 5:  Cost: 1.5281, Accuracy: 44.68%\n",
      "Epoch 10, CIFAR-10 Batch 1:  Cost: 1.4878, Accuracy: 50.25%\n",
      "Epoch 10, CIFAR-10 Batch 2:  Cost: 1.5236, Accuracy: 45.92%\n",
      "Epoch 10, CIFAR-10 Batch 3:  Cost: 1.4332, Accuracy: 50.37%\n",
      "Epoch 10, CIFAR-10 Batch 4:  Cost: 1.4539, Accuracy: 49.88%\n",
      "Epoch 10, CIFAR-10 Batch 5:  Cost: 1.4682, Accuracy: 48.64%\n",
      "Epoch 11, CIFAR-10 Batch 1:  Cost: 1.4294, Accuracy: 52.1 %\n",
      "Epoch 11, CIFAR-10 Batch 2:  Cost: 1.4881, Accuracy: 47.4 %\n",
      "Epoch 11, CIFAR-10 Batch 3:  Cost: 1.4008, Accuracy: 51.11%\n",
      "Epoch 11, CIFAR-10 Batch 4:  Cost: 1.423 , Accuracy: 52.23%\n",
      "Epoch 11, CIFAR-10 Batch 5:  Cost: 1.4272, Accuracy: 51.11%\n",
      "Epoch 12, CIFAR-10 Batch 1:  Cost: 1.3854, Accuracy: 55.07%\n",
      "Epoch 12, CIFAR-10 Batch 2:  Cost: 1.4441, Accuracy: 48.27%\n",
      "Epoch 12, CIFAR-10 Batch 3:  Cost: 1.3581, Accuracy: 53.96%\n",
      "Epoch 12, CIFAR-10 Batch 4:  Cost: 1.3877, Accuracy: 53.34%\n",
      "Epoch 12, CIFAR-10 Batch 5:  Cost: 1.3871, Accuracy: 53.22%\n",
      "Epoch 13, CIFAR-10 Batch 1:  Cost: 1.3505, Accuracy: 55.57%\n",
      "Epoch 13, CIFAR-10 Batch 2:  Cost: 1.4123, Accuracy: 49.75%\n",
      "Epoch 13, CIFAR-10 Batch 3:  Cost: 1.3186, Accuracy: 56.31%\n",
      "Epoch 13, CIFAR-10 Batch 4:  Cost: 1.338 , Accuracy: 53.71%\n",
      "Epoch 13, CIFAR-10 Batch 5:  Cost: 1.331 , Accuracy: 55.07%\n",
      "Epoch 14, CIFAR-10 Batch 1:  Cost: 1.3029, Accuracy: 57.05%\n",
      "Epoch 14, CIFAR-10 Batch 2:  Cost: 1.3824, Accuracy: 51.98%\n",
      "Epoch 14, CIFAR-10 Batch 3:  Cost: 1.3109, Accuracy: 53.71%\n",
      "Epoch 14, CIFAR-10 Batch 4:  Cost: 1.3284, Accuracy: 55.69%\n",
      "Epoch 14, CIFAR-10 Batch 5:  Cost: 1.3173, Accuracy: 56.56%\n",
      "Epoch 15, CIFAR-10 Batch 1:  Cost: 1.273 , Accuracy: 58.66%\n",
      "Epoch 15, CIFAR-10 Batch 2:  Cost: 1.3355, Accuracy: 54.46%\n",
      "Epoch 15, CIFAR-10 Batch 3:  Cost: 1.2446, Accuracy: 60.02%\n",
      "Epoch 15, CIFAR-10 Batch 4:  Cost: 1.2692, Accuracy: 57.55%\n",
      "Epoch 15, CIFAR-10 Batch 5:  Cost: 1.2599, Accuracy: 57.43%\n",
      "Epoch 16, CIFAR-10 Batch 1:  Cost: 1.2357, Accuracy: 60.4 %\n",
      "Epoch 16, CIFAR-10 Batch 2:  Cost: 1.3041, Accuracy: 55.45%\n",
      "Epoch 16, CIFAR-10 Batch 3:  Cost: 1.219 , Accuracy: 59.41%\n",
      "Epoch 16, CIFAR-10 Batch 4:  Cost: 1.2361, Accuracy: 58.29%\n",
      "Epoch 16, CIFAR-10 Batch 5:  Cost: 1.2275, Accuracy: 59.53%\n",
      "Epoch 17, CIFAR-10 Batch 1:  Cost: 1.1969, Accuracy: 61.76%\n",
      "Epoch 17, CIFAR-10 Batch 2:  Cost: 1.2704, Accuracy: 57.05%\n",
      "Epoch 17, CIFAR-10 Batch 3:  Cost: 1.1866, Accuracy: 59.78%\n",
      "Epoch 17, CIFAR-10 Batch 4:  Cost: 1.2046, Accuracy: 59.65%\n",
      "Epoch 17, CIFAR-10 Batch 5:  Cost: 1.1887, Accuracy: 59.9 %\n",
      "Epoch 18, CIFAR-10 Batch 1:  Cost: 1.1634, Accuracy: 62.87%\n",
      "Epoch 18, CIFAR-10 Batch 2:  Cost: 1.2405, Accuracy: 57.8 %\n",
      "Epoch 18, CIFAR-10 Batch 3:  Cost: 1.1612, Accuracy: 61.26%\n",
      "Epoch 18, CIFAR-10 Batch 4:  Cost: 1.1814, Accuracy: 60.89%\n",
      "Epoch 18, CIFAR-10 Batch 5:  Cost: 1.1672, Accuracy: 60.4 %\n",
      "Epoch 19, CIFAR-10 Batch 1:  Cost: 1.1392, Accuracy: 63.49%\n",
      "Epoch 19, CIFAR-10 Batch 2:  Cost: 1.2223, Accuracy: 59.03%\n",
      "Epoch 19, CIFAR-10 Batch 3:  Cost: 1.1326, Accuracy: 61.76%\n",
      "Epoch 19, CIFAR-10 Batch 4:  Cost: 1.1555, Accuracy: 61.76%\n",
      "Epoch 19, CIFAR-10 Batch 5:  Cost: 1.1323, Accuracy: 63.0 %\n",
      "Epoch 20, CIFAR-10 Batch 1:  Cost: 1.1016, Accuracy: 64.6 %\n",
      "Epoch 20, CIFAR-10 Batch 2:  Cost: 1.1762, Accuracy: 61.88%\n",
      "Epoch 20, CIFAR-10 Batch 3:  Cost: 1.1027, Accuracy: 63.49%\n",
      "Epoch 20, CIFAR-10 Batch 4:  Cost: 1.1197, Accuracy: 64.23%\n",
      "Epoch 20, CIFAR-10 Batch 5:  Cost: 1.0912, Accuracy: 63.49%\n",
      "Epoch 21, CIFAR-10 Batch 1:  Cost: 1.068 , Accuracy: 66.58%\n",
      "Epoch 21, CIFAR-10 Batch 2:  Cost: 1.1402, Accuracy: 62.25%\n",
      "Epoch 21, CIFAR-10 Batch 3:  Cost: 1.0666, Accuracy: 64.36%\n",
      "Epoch 21, CIFAR-10 Batch 4:  Cost: 1.0839, Accuracy: 64.48%\n",
      "Epoch 21, CIFAR-10 Batch 5:  Cost: 1.0551, Accuracy: 65.1 %\n",
      "Epoch 22, CIFAR-10 Batch 1:  Cost: 1.038 , Accuracy: 66.96%\n",
      "Epoch 22, CIFAR-10 Batch 2:  Cost: 1.1126, Accuracy: 63.86%\n",
      "Epoch 22, CIFAR-10 Batch 3:  Cost: 1.0524, Accuracy: 64.6 %\n",
      "Epoch 22, CIFAR-10 Batch 4:  Cost: 1.0746, Accuracy: 65.59%\n",
      "Epoch 22, CIFAR-10 Batch 5:  Cost: 1.0389, Accuracy: 67.08%\n",
      "Epoch 23, CIFAR-10 Batch 1:  Cost: 1.0199, Accuracy: 69.06%\n",
      "Epoch 23, CIFAR-10 Batch 2:  Cost: 1.0955, Accuracy: 63.99%\n",
      "Epoch 23, CIFAR-10 Batch 3:  Cost: 1.021 , Accuracy: 66.21%\n",
      "Epoch 23, CIFAR-10 Batch 4:  Cost: 1.0342, Accuracy: 65.1 %\n",
      "Epoch 23, CIFAR-10 Batch 5:  Cost: 0.99999, Accuracy: 68.32%\n",
      "Epoch 24, CIFAR-10 Batch 1:  Cost: 0.97747, Accuracy: 70.3 %\n",
      "Epoch 24, CIFAR-10 Batch 2:  Cost: 1.0592, Accuracy: 66.96%\n",
      "Epoch 24, CIFAR-10 Batch 3:  Cost: 0.99468, Accuracy: 66.21%\n",
      "Epoch 24, CIFAR-10 Batch 4:  Cost: 1.0118, Accuracy: 67.82%\n",
      "Epoch 24, CIFAR-10 Batch 5:  Cost: 0.98387, Accuracy: 69.31%\n",
      "Epoch 25, CIFAR-10 Batch 1:  Cost: 0.96719, Accuracy: 70.54%\n",
      "Epoch 25, CIFAR-10 Batch 2:  Cost: 1.04  , Accuracy: 66.96%\n",
      "Epoch 25, CIFAR-10 Batch 3:  Cost: 0.99115, Accuracy: 68.94%\n",
      "Epoch 25, CIFAR-10 Batch 4:  Cost: 0.99967, Accuracy: 67.82%\n",
      "Epoch 25, CIFAR-10 Batch 5:  Cost: 0.961 , Accuracy: 71.41%\n",
      "Epoch 26, CIFAR-10 Batch 1:  Cost: 0.93343, Accuracy: 71.41%\n",
      "Epoch 26, CIFAR-10 Batch 2:  Cost: 0.99724, Accuracy: 67.7 %\n",
      "Epoch 26, CIFAR-10 Batch 3:  Cost: 0.9306, Accuracy: 70.54%\n",
      "Epoch 26, CIFAR-10 Batch 4:  Cost: 0.94701, Accuracy: 69.8 %\n",
      "Epoch 26, CIFAR-10 Batch 5:  Cost: 0.9188, Accuracy: 72.28%\n",
      "Epoch 27, CIFAR-10 Batch 1:  Cost: 0.90011, Accuracy: 73.27%\n",
      "Epoch 27, CIFAR-10 Batch 2:  Cost: 0.97383, Accuracy: 69.93%\n",
      "Epoch 27, CIFAR-10 Batch 3:  Cost: 0.91837, Accuracy: 71.29%\n",
      "Epoch 27, CIFAR-10 Batch 4:  Cost: 0.93516, Accuracy: 68.69%\n",
      "Epoch 27, CIFAR-10 Batch 5:  Cost: 0.90429, Accuracy: 73.02%\n",
      "Epoch 28, CIFAR-10 Batch 1:  Cost: 0.88527, Accuracy: 73.76%\n",
      "Epoch 28, CIFAR-10 Batch 2:  Cost: 0.95044, Accuracy: 70.05%\n",
      "Epoch 28, CIFAR-10 Batch 3:  Cost: 0.89108, Accuracy: 72.65%\n",
      "Epoch 28, CIFAR-10 Batch 4:  Cost: 0.89613, Accuracy: 71.04%\n",
      "Epoch 28, CIFAR-10 Batch 5:  Cost: 0.86257, Accuracy: 74.88%\n",
      "Epoch 29, CIFAR-10 Batch 1:  Cost: 0.85013, Accuracy: 73.76%\n",
      "Epoch 29, CIFAR-10 Batch 2:  Cost: 0.92026, Accuracy: 71.16%\n",
      "Epoch 29, CIFAR-10 Batch 3:  Cost: 0.87412, Accuracy: 73.14%\n",
      "Epoch 29, CIFAR-10 Batch 4:  Cost: 0.88499, Accuracy: 72.52%\n",
      "Epoch 29, CIFAR-10 Batch 5:  Cost: 0.85069, Accuracy: 76.11%\n",
      "Epoch 30, CIFAR-10 Batch 1:  Cost: 0.84042, Accuracy: 74.75%\n",
      "Epoch 30, CIFAR-10 Batch 2:  Cost: 0.91569, Accuracy: 71.29%\n",
      "Epoch 30, CIFAR-10 Batch 3:  Cost: 0.8525, Accuracy: 74.88%\n",
      "Epoch 30, CIFAR-10 Batch 4:  Cost: 0.85187, Accuracy: 73.14%\n",
      "Epoch 30, CIFAR-10 Batch 5:  Cost: 0.8203, Accuracy: 76.98%\n",
      "Epoch 31, CIFAR-10 Batch 1:  Cost: 0.79794, Accuracy: 77.23%\n",
      "Epoch 31, CIFAR-10 Batch 2:  Cost: 0.88443, Accuracy: 73.14%\n",
      "Epoch 31, CIFAR-10 Batch 3:  Cost: 0.84824, Accuracy: 74.26%\n",
      "Epoch 31, CIFAR-10 Batch 4:  Cost: 0.85221, Accuracy: 73.02%\n",
      "Epoch 31, CIFAR-10 Batch 5:  Cost: 0.81619, Accuracy: 77.1 %\n",
      "Epoch 32, CIFAR-10 Batch 1:  Cost: 0.7983, Accuracy: 76.49%\n",
      "Epoch 32, CIFAR-10 Batch 2:  Cost: 0.84737, Accuracy: 73.39%\n",
      "Epoch 32, CIFAR-10 Batch 3:  Cost: 0.81003, Accuracy: 75.12%\n",
      "Epoch 32, CIFAR-10 Batch 4:  Cost: 0.81063, Accuracy: 75.62%\n",
      "Epoch 32, CIFAR-10 Batch 5:  Cost: 0.78878, Accuracy: 77.6 %\n",
      "Epoch 33, CIFAR-10 Batch 1:  Cost: 0.76191, Accuracy: 78.09%\n",
      "Epoch 33, CIFAR-10 Batch 2:  Cost: 0.81613, Accuracy: 74.88%\n",
      "Epoch 33, CIFAR-10 Batch 3:  Cost: 0.78236, Accuracy: 76.98%\n",
      "Epoch 33, CIFAR-10 Batch 4:  Cost: 0.79302, Accuracy: 75.99%\n",
      "Epoch 33, CIFAR-10 Batch 5:  Cost: 0.76671, Accuracy: 79.7 %\n",
      "Epoch 34, CIFAR-10 Batch 1:  Cost: 0.77269, Accuracy: 78.96%\n",
      "Epoch 34, CIFAR-10 Batch 2:  Cost: 0.81797, Accuracy: 73.76%\n",
      "Epoch 34, CIFAR-10 Batch 3:  Cost: 0.76883, Accuracy: 78.22%\n",
      "Epoch 34, CIFAR-10 Batch 4:  Cost: 0.7642, Accuracy: 76.49%\n",
      "Epoch 34, CIFAR-10 Batch 5:  Cost: 0.73263, Accuracy: 81.31%\n",
      "Epoch 35, CIFAR-10 Batch 1:  Cost: 0.72235, Accuracy: 78.71%\n",
      "Epoch 35, CIFAR-10 Batch 2:  Cost: 0.78991, Accuracy: 76.61%\n",
      "Epoch 35, CIFAR-10 Batch 3:  Cost: 0.76298, Accuracy: 76.98%\n",
      "Epoch 35, CIFAR-10 Batch 4:  Cost: 0.77744, Accuracy: 74.13%\n",
      "Epoch 35, CIFAR-10 Batch 5:  Cost: 0.74837, Accuracy: 80.07%\n",
      "Epoch 36, CIFAR-10 Batch 1:  Cost: 0.7132, Accuracy: 79.95%\n",
      "Epoch 36, CIFAR-10 Batch 2:  Cost: 0.76545, Accuracy: 75.87%\n",
      "Epoch 36, CIFAR-10 Batch 3:  Cost: 0.7374, Accuracy: 78.09%\n",
      "Epoch 36, CIFAR-10 Batch 4:  Cost: 0.75265, Accuracy: 76.36%\n",
      "Epoch 36, CIFAR-10 Batch 5:  Cost: 0.72584, Accuracy: 81.56%\n",
      "Epoch 37, CIFAR-10 Batch 1:  Cost: 0.70799, Accuracy: 80.45%\n",
      "Epoch 37, CIFAR-10 Batch 2:  Cost: 0.76501, Accuracy: 75.62%\n",
      "Epoch 37, CIFAR-10 Batch 3:  Cost: 0.72301, Accuracy: 80.07%\n",
      "Epoch 37, CIFAR-10 Batch 4:  Cost: 0.71662, Accuracy: 77.85%\n",
      "Epoch 37, CIFAR-10 Batch 5:  Cost: 0.68451, Accuracy: 83.54%\n",
      "Epoch 38, CIFAR-10 Batch 1:  Cost: 0.66534, Accuracy: 81.81%\n",
      "Epoch 38, CIFAR-10 Batch 2:  Cost: 0.72719, Accuracy: 76.61%\n",
      "Epoch 38, CIFAR-10 Batch 3:  Cost: 0.69784, Accuracy: 80.82%\n",
      "Epoch 38, CIFAR-10 Batch 4:  Cost: 0.69243, Accuracy: 79.33%\n",
      "Epoch 38, CIFAR-10 Batch 5:  Cost: 0.66107, Accuracy: 83.54%\n",
      "Epoch 39, CIFAR-10 Batch 1:  Cost: 0.64527, Accuracy: 83.29%\n",
      "Epoch 39, CIFAR-10 Batch 2:  Cost: 0.70995, Accuracy: 78.09%\n",
      "Epoch 39, CIFAR-10 Batch 3:  Cost: 0.67285, Accuracy: 82.3 %\n",
      "Epoch 39, CIFAR-10 Batch 4:  Cost: 0.66239, Accuracy: 80.2 %\n",
      "Epoch 39, CIFAR-10 Batch 5:  Cost: 0.64677, Accuracy: 83.91%\n",
      "Epoch 40, CIFAR-10 Batch 1:  Cost: 0.6389, Accuracy: 82.55%\n",
      "Epoch 40, CIFAR-10 Batch 2:  Cost: 0.68424, Accuracy: 79.7 %\n",
      "Epoch 40, CIFAR-10 Batch 3:  Cost: 0.64932, Accuracy: 82.8 %\n",
      "Epoch 40, CIFAR-10 Batch 4:  Cost: 0.64774, Accuracy: 81.56%\n",
      "Epoch 40, CIFAR-10 Batch 5:  Cost: 0.63765, Accuracy: 83.17%\n"
     ]
    }
   ],
   "source": [
    "\"\"\"\n",
    "DON'T MODIFY ANYTHING IN THIS CELL\n",
    "\"\"\"\n",
    "save_model_path = './image_classification'\n",
    "\n",
    "print('Training...')\n",
    "with tf.Session() as sess:\n",
    "    # Initializing the variables\n",
    "    sess.run(tf.global_variables_initializer())\n",
    "    \n",
    "    # Training cycle\n",
    "    for epoch in range(epochs):\n",
    "        # Loop over all batches\n",
    "        n_batches = 5\n",
    "        for batch_i in range(1, n_batches + 1):\n",
    "            for batch_features, batch_labels in helper.load_preprocess_training_batch(batch_i, batch_size):\n",
    "                train_neural_network(sess, optimizer, keep_probability, batch_features, batch_labels)\n",
    "            print('Epoch {:>2}, CIFAR-10 Batch {}:  '.format(epoch + 1, batch_i), end='')\n",
    "            print_stats(sess, batch_features, batch_labels, cost, accuracy)\n",
    "            \n",
    "    # Save Model\n",
    "    saver = tf.train.Saver()\n",
    "    save_path = saver.save(sess, save_model_path)"
   ]
  },
  {
   "cell_type": "markdown",
   "metadata": {
    "deletable": true,
    "editable": true
   },
   "source": [
    "# Checkpoint\n",
    "The model has been saved to disk.\n",
    "## Test Model\n",
    "Test your model against the test dataset.  This will be your final accuracy. You should have an accuracy greater than 50%. If you don't, keep tweaking the model architecture and parameters."
   ]
  },
  {
   "cell_type": "code",
   "execution_count": 96,
   "metadata": {
    "collapsed": false,
    "deletable": true,
    "editable": true
   },
   "outputs": [
    {
     "name": "stdout",
     "output_type": "stream",
     "text": [
      "Testing Accuracy: 0.522155225276947\n",
      "\n"
     ]
    },
    {
     "data": {
      "image/png": "[encoded data removed]",
      "text/plain": [
       "<matplotlib.figure.Figure at 0x7f76c6240f28>"
      ]
     },
     "metadata": {
      "image/png": {
       "height": 319,
       "width": 355
      }
     },
     "output_type": "display_data"
    }
   ],
   "source": [
    "\"\"\"\n",
    "DON'T MODIFY ANYTHING IN THIS CELL\n",
    "\"\"\"\n",
    "%matplotlib inline\n",
    "%config InlineBackend.figure_format = 'retina'\n",
    "\n",
    "import tensorflow as tf\n",
    "import pickle\n",
    "import helper\n",
    "import random\n",
    "\n",
    "# Set batch size if not already set\n",
    "try:\n",
    "    if batch_size:\n",
    "        pass\n",
    "except NameError:\n",
    "    batch_size = 64\n",
    "\n",
    "save_model_path = './image_classification'\n",
    "n_samples = 4\n",
    "top_n_predictions = 3\n",
    "\n",
    "def test_model():\n",
    "    \"\"\"\n",
    "    Test the saved model against the test dataset\n",
    "    \"\"\"\n",
    "\n",
    "    test_features, test_labels = pickle.load(open('preprocess_training.p', mode='rb'))\n",
    "    loaded_graph = tf.Graph()\n",
    "\n",
    "    with tf.Session(graph=loaded_graph) as sess:\n",
    "        # Load model\n",
    "        loader = tf.train.import_meta_graph(save_model_path + '.meta')\n",
    "        loader.restore(sess, save_model_path)\n",
    "\n",
    "        # Get Tensors from loaded model\n",
    "        loaded_x = loaded_graph.get_tensor_by_name('x:0')\n",
    "        loaded_y = loaded_graph.get_tensor_by_name('y:0')\n",
    "        loaded_keep_prob = loaded_graph.get_tensor_by_name('keep_prob:0')\n",
    "        loaded_logits = loaded_graph.get_tensor_by_name('logits:0')\n",
    "        loaded_acc = loaded_graph.get_tensor_by_name('accuracy:0')\n",
    "        \n",
    "        # Get accuracy in batches for memory limitations\n",
    "        test_batch_acc_total = 0\n",
    "        test_batch_count = 0\n",
    "        \n",
    "        for train_feature_batch, train_label_batch in helper.batch_features_labels(test_features, test_labels, batch_size):\n",
    "            test_batch_acc_total += sess.run(\n",
    "                loaded_acc,\n",
    "                feed_dict={loaded_x: train_feature_batch, loaded_y: train_label_batch, loaded_keep_prob: 1.0})\n",
    "            test_batch_count += 1\n",
    "\n",
    "        print('Testing Accuracy: {}\\n'.format(test_batch_acc_total/test_batch_count))\n",
    "\n",
    "        # Print Random Samples\n",
    "        random_test_features, random_test_labels = tuple(zip(*random.sample(list(zip(test_features, test_labels)), n_samples)))\n",
    "        random_test_predictions = sess.run(\n",
    "            tf.nn.top_k(tf.nn.softmax(loaded_logits), top_n_predictions),\n",
    "            feed_dict={loaded_x: random_test_features, loaded_y: random_test_labels, loaded_keep_prob: 1.0})\n",
    "        helper.display_image_predictions(random_test_features, random_test_labels, random_test_predictions)\n",
    "\n",
    "\n",
    "test_model()"
   ]
  },
  {
   "cell_type": "markdown",
   "metadata": {
    "deletable": true,
    "editable": true
   },
   "source": [
    "## Why 50-80% Accuracy?\n",
    "You might be wondering why you can't get an accuracy any higher. First things first, 50% isn't bad for a simple CNN.  Pure guessing would get you 10% accuracy. However, you might notice people are getting scores [well above 80%](http://rodrigob.github.io/are_we_there_yet/build/classification_datasets_results.html#43494641522d3130).  That's because we haven't taught you all there is to know about neural networks. We still need to cover a few more techniques.\n",
    "## Submitting This Project\n",
    "When submitting this project, make sure to run all the cells before saving the notebook.  Save the notebook file as \"dlnd_image_classification.ipynb\" and save it as a HTML file under \"File\" -> \"Download as\".  Include the \"helper.py\" and \"problem_unittests.py\" files in your submission."
   ]
  }
 ],
 "metadata": {
  "kernelspec": {
   "display_name": "Python 3",
   "language": "python",
   "name": "python3"
  },
  "language_info": {
   "codemirror_mode": {
    "name": "ipython",
    "version": 3
   },
   "file_extension": ".py",
   "mimetype": "text/x-python",
   "name": "python",
   "nbconvert_exporter": "python",
   "pygments_lexer": "ipython3",
   "version": "3.5.2"
  },
  "widgets": {
   "state": {},
   "version": "1.1.2"
  }
 },
 "nbformat": 4,
 "nbformat_minor": 0
}
